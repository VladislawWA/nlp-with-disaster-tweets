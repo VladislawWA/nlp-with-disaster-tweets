{
 "cells": [
  {
   "cell_type": "code",
   "execution_count": 16,
   "id": "4cb14f39",
   "metadata": {
    "papermill": {
     "duration": 3.24626,
     "end_time": "2024-03-15T12:13:21.823458",
     "exception": false,
     "start_time": "2024-03-15T12:13:18.577198",
     "status": "completed"
    },
    "tags": []
   },
   "outputs": [],
   "source": [
    "import pandas as pd\n",
    "from joblib import dump\n",
    "import sklearn.feature_extraction as fe\n",
    "from sklearn.naive_bayes import MultinomialNB\n",
    "from sklearn.pipeline import Pipeline\n",
    "\n",
    "import nltk\n",
    "from nltk.stem import WordNetLemmatizer"
   ]
  },
  {
   "cell_type": "code",
   "execution_count": 17,
   "id": "ea3336d5",
   "metadata": {
    "papermill": {
     "duration": 0.113555,
     "end_time": "2024-03-15T12:13:23.410687",
     "exception": false,
     "start_time": "2024-03-15T12:13:23.297132",
     "status": "completed"
    },
    "tags": []
   },
   "outputs": [],
   "source": [
    "base_dir = 'D:/Users/Vladislav/Documents/Jupyter Notebook/Лабораторные работы/Программная инженерия'\n",
    "\n",
    "train_data = pd.read_csv(base_dir + '/nlp-getting-started/train.csv')\n",
    "test_data = pd.read_csv(base_dir + '/nlp-getting-started/test.csv')\n",
    "\n",
    "stop_words = nltk.corpus.stopwords.words('english')"
   ]
  },
  {
   "cell_type": "code",
   "execution_count": 18,
   "id": "27b149a8",
   "metadata": {
    "papermill": {
     "duration": 0.020725,
     "end_time": "2024-03-15T12:13:23.436868",
     "exception": false,
     "start_time": "2024-03-15T12:13:23.416143",
     "status": "completed"
    },
    "tags": []
   },
   "outputs": [],
   "source": [
    "# used lemms\n",
    "\n",
    "lemmatizer = WordNetLemmatizer()\n",
    "\n",
    "lemm_train_data = [lemmatizer.lemmatize(word) for word in train_data['text']]\n",
    "lemm_test_data = [lemmatizer.lemmatize(word) for word in test_data['text']]"
   ]
  },
  {
   "cell_type": "code",
   "execution_count": 19,
   "id": "d4056c70",
   "metadata": {
    "papermill": {
     "duration": 2.839471,
     "end_time": "2024-03-15T12:13:26.281807",
     "exception": false,
     "start_time": "2024-03-15T12:13:23.442336",
     "status": "completed"
    },
    "tags": []
   },
   "outputs": [],
   "source": [
    "# make tokens\n",
    "\n",
    "count_vec = fe.text.CountVectorizer(stop_words=stop_words)\n",
    "\n",
    "#train_tok = count_vec.fit_transform(lemm_train_data)\n",
    "#test_tok = count_vec.transform(lemm_test_data)\n",
    "\n",
    "\n",
    "# used TFIDF\n",
    "\n",
    "tfidf_transformer = fe.text.TfidfTransformer()\n",
    "\n",
    "#tf_train_tok = tfidf_transformer.fit_transform(train_tok)\n",
    "#tf_test_tok = tfidf_transformer.transform(test_tok)"
   ]
  },
  {
   "cell_type": "code",
   "execution_count": 20,
   "id": "a037ef16-1c02-4a08-97a6-5d2a0e089114",
   "metadata": {
    "scrolled": true
   },
   "outputs": [
    {
     "data": {
      "text/plain": [
       "['pipe_data_transf.joblib']"
      ]
     },
     "execution_count": 20,
     "metadata": {},
     "output_type": "execute_result"
    }
   ],
   "source": [
    "# make pipline\n",
    "\n",
    "pipe = Pipeline( [('count_vect', count_vec), ('tfidf_transf', tfidf_transformer)] )\n",
    "pipe.fit(lemm_train_data)\n",
    "\n",
    "dump(pipe, 'pipe_data_transf.joblib')"
   ]
  },
  {
   "cell_type": "code",
   "execution_count": 10,
   "id": "99fbe6eb-57db-4bf6-94ca-5c19192114d0",
   "metadata": {},
   "outputs": [
    {
     "name": "stdout",
     "output_type": "stream",
     "text": [
      "(7613, 21498)\n"
     ]
    }
   ],
   "source": [
    "# transform data\n",
    "\n",
    "tf_train_tok = pipe.transform(lemm_train_data)\n",
    "tf_test_tok = pipe.transform(lemm_test_data)\n",
    "\n",
    "print(tf_train_tok.shape)"
   ]
  },
  {
   "cell_type": "code",
   "execution_count": 11,
   "id": "86a04953",
   "metadata": {
    "papermill": {
     "duration": 0.022615,
     "end_time": "2024-03-15T12:13:26.799414",
     "exception": false,
     "start_time": "2024-03-15T12:13:26.776799",
     "status": "completed"
    },
    "tags": []
   },
   "outputs": [],
   "source": [
    "clf = MultinomialNB().fit(tf_train_tok, train_data['target'])"
   ]
  },
  {
   "cell_type": "code",
   "execution_count": 12,
   "id": "094856d0",
   "metadata": {
    "papermill": {
     "duration": 0.03017,
     "end_time": "2024-03-15T12:13:26.835064",
     "exception": false,
     "start_time": "2024-03-15T12:13:26.804894",
     "status": "completed"
    },
    "tags": []
   },
   "outputs": [],
   "source": [
    "predicted = clf.predict(tf_test_tok)\n",
    "\n",
    "sample_submission = pd.read_csv(base_dir + \"/nlp-getting-started/sample_submission.csv\")"
   ]
  },
  {
   "cell_type": "code",
   "execution_count": 13,
   "id": "9e1ac8b7",
   "metadata": {
    "papermill": {
     "duration": 0.020461,
     "end_time": "2024-03-15T12:13:26.861251",
     "exception": false,
     "start_time": "2024-03-15T12:13:26.840790",
     "status": "completed"
    },
    "tags": []
   },
   "outputs": [],
   "source": [
    "sample_submission[\"target\"] = predicted"
   ]
  },
  {
   "cell_type": "code",
   "execution_count": 14,
   "id": "a8d873aa",
   "metadata": {
    "papermill": {
     "duration": 0.022844,
     "end_time": "2024-03-15T12:13:26.889988",
     "exception": false,
     "start_time": "2024-03-15T12:13:26.867144",
     "status": "completed"
    },
    "tags": []
   },
   "outputs": [],
   "source": [
    "sample_submission.to_csv(base_dir + \"/submission.csv\", index=False)"
   ]
  },
  {
   "cell_type": "code",
   "execution_count": null,
   "id": "3243996d-5279-402a-8ea2-79c4dfb5e846",
   "metadata": {},
   "outputs": [],
   "source": []
  }
 ],
 "metadata": {
  "kaggle": {
   "accelerator": "none",
   "dataSources": [
    {
     "databundleVersionId": 869809,
     "sourceId": 17777,
     "sourceType": "competition"
    }
   ],
   "dockerImageVersionId": 30664,
   "isGpuEnabled": false,
   "isInternetEnabled": true,
   "language": "python",
   "sourceType": "notebook"
  },
  "kernelspec": {
   "display_name": "Python 3 (ipykernel)",
   "language": "python",
   "name": "python3"
  },
  "language_info": {
   "codemirror_mode": {
    "name": "ipython",
    "version": 3
   },
   "file_extension": ".py",
   "mimetype": "text/x-python",
   "name": "python",
   "nbconvert_exporter": "python",
   "pygments_lexer": "ipython3",
   "version": "3.10.11"
  },
  "papermill": {
   "default_parameters": {},
   "duration": 12.215509,
   "end_time": "2024-03-15T12:13:27.829214",
   "environment_variables": {},
   "exception": null,
   "input_path": "__notebook__.ipynb",
   "output_path": "__notebook__.ipynb",
   "parameters": {},
   "start_time": "2024-03-15T12:13:15.613705",
   "version": "2.5.0"
  }
 },
 "nbformat": 4,
 "nbformat_minor": 5
}
