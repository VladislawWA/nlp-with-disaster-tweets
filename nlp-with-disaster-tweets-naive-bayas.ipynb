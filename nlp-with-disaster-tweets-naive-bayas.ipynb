{
 "cells": [
  {
   "cell_type": "code",
   "execution_count": 1,
   "id": "4cb14f39",
   "metadata": {
    "execution": {
     "iopub.execute_input": "2024-03-15T12:13:18.585001Z",
     "iopub.status.busy": "2024-03-15T12:13:18.584084Z",
     "iopub.status.idle": "2024-03-15T12:13:21.820865Z",
     "shell.execute_reply": "2024-03-15T12:13:21.819998Z"
    },
    "papermill": {
     "duration": 3.24626,
     "end_time": "2024-03-15T12:13:21.823458",
     "exception": false,
     "start_time": "2024-03-15T12:13:18.577198",
     "status": "completed"
    },
    "tags": []
   },
   "outputs": [
    {
     "name": "stdout",
     "output_type": "stream",
     "text": [
      "[nltk_data] Downloading package wordnet to /usr/share/nltk_data...\n",
      "[nltk_data]   Package wordnet is already up-to-date!\n"
     ]
    }
   ],
   "source": [
    "import numpy as np\n",
    "import pandas as pd\n",
    "import matplotlib as plt\n",
    "import os\n",
    "\n",
    "import nltk\n",
    "from nltk.stem import WordNetLemmatizer\n",
    "nltk.download('wordnet')\n",
    "\n",
    "import sklearn.feature_extraction as fe\n",
    "from sklearn.naive_bayes import MultinomialNB"
   ]
  },
  {
   "cell_type": "code",
   "execution_count": 2,
   "id": "a18362e7",
   "metadata": {
    "execution": {
     "iopub.execute_input": "2024-03-15T12:13:21.835410Z",
     "iopub.status.busy": "2024-03-15T12:13:21.834481Z",
     "iopub.status.idle": "2024-03-15T12:13:23.289001Z",
     "shell.execute_reply": "2024-03-15T12:13:23.287609Z"
    },
    "papermill": {
     "duration": 1.463454,
     "end_time": "2024-03-15T12:13:23.291811",
     "exception": false,
     "start_time": "2024-03-15T12:13:21.828357",
     "status": "completed"
    },
    "tags": []
   },
   "outputs": [
    {
     "name": "stdout",
     "output_type": "stream",
     "text": [
      "/\n",
      "/usr/share/nltk_data/corpora\n",
      "Archive:  /usr/share/nltk_data/corpora/wordnet.zip\r\n",
      "   creating: wordnet/\r\n",
      "  inflating: wordnet/lexnames        \r\n",
      "  inflating: wordnet/data.verb       \r\n",
      "  inflating: wordnet/index.adv       \r\n",
      "  inflating: wordnet/adv.exc         \r\n",
      "  inflating: wordnet/index.verb      \r\n",
      "  inflating: wordnet/cntlist.rev     \r\n",
      "  inflating: wordnet/data.adj        \r\n",
      "  inflating: wordnet/index.adj       \r\n",
      "  inflating: wordnet/LICENSE         \r\n",
      "  inflating: wordnet/citation.bib    \r\n",
      "  inflating: wordnet/noun.exc        \r\n",
      "  inflating: wordnet/verb.exc        \r\n",
      "  inflating: wordnet/README          \r\n",
      "  inflating: wordnet/index.sense     \r\n",
      "  inflating: wordnet/data.noun       \r\n",
      "  inflating: wordnet/data.adv        \r\n",
      "  inflating: wordnet/index.noun      \r\n",
      "  inflating: wordnet/adj.exc         \r\n"
     ]
    }
   ],
   "source": [
    "%pwd\n",
    "%cd /\n",
    "%cd usr/share/nltk_data/corpora\n",
    "! unzip \"/usr/share/nltk_data/corpora/wordnet.zip\""
   ]
  },
  {
   "cell_type": "code",
   "execution_count": 3,
   "id": "ea3336d5",
   "metadata": {
    "execution": {
     "iopub.execute_input": "2024-03-15T12:13:23.304222Z",
     "iopub.status.busy": "2024-03-15T12:13:23.303785Z",
     "iopub.status.idle": "2024-03-15T12:13:23.407774Z",
     "shell.execute_reply": "2024-03-15T12:13:23.406544Z"
    },
    "papermill": {
     "duration": 0.113555,
     "end_time": "2024-03-15T12:13:23.410687",
     "exception": false,
     "start_time": "2024-03-15T12:13:23.297132",
     "status": "completed"
    },
    "tags": []
   },
   "outputs": [
    {
     "name": "stdout",
     "output_type": "stream",
     "text": [
      "Train data:\n",
      "   id keyword location                                               text  \\\n",
      "0   1     NaN      NaN  Our Deeds are the Reason of this #earthquake M...   \n",
      "1   4     NaN      NaN             Forest fire near La Ronge Sask. Canada   \n",
      "2   5     NaN      NaN  All residents asked to 'shelter in place' are ...   \n",
      "3   6     NaN      NaN  13,000 people receive #wildfires evacuation or...   \n",
      "4   7     NaN      NaN  Just got sent this photo from Ruby #Alaska as ...   \n",
      "\n",
      "   target  \n",
      "0       1  \n",
      "1       1  \n",
      "2       1  \n",
      "3       1  \n",
      "4       1  \n",
      "\n",
      "Test data:\n",
      "   id keyword location                                               text\n",
      "0   0     NaN      NaN                 Just happened a terrible car crash\n",
      "1   2     NaN      NaN  Heard about #earthquake is different cities, s...\n",
      "2   3     NaN      NaN  there is a forest fire at spot pond, geese are...\n",
      "3   9     NaN      NaN           Apocalypse lighting. #Spokane #wildfires\n",
      "4  11     NaN      NaN      Typhoon Soudelor kills 28 in China and Taiwan\n"
     ]
    }
   ],
   "source": [
    "train_data = pd.read_csv('/kaggle/input/nlp-getting-started/train.csv')\n",
    "test_data = pd.read_csv('/kaggle/input/nlp-getting-started/test.csv')\n",
    "\n",
    "print(f'Train data:\\n{train_data.head()}')\n",
    "print()\n",
    "print(f'Test data:\\n{test_data.head()}')"
   ]
  },
  {
   "cell_type": "code",
   "execution_count": 4,
   "id": "27b149a8",
   "metadata": {
    "execution": {
     "iopub.execute_input": "2024-03-15T12:13:23.423717Z",
     "iopub.status.busy": "2024-03-15T12:13:23.423085Z",
     "iopub.status.idle": "2024-03-15T12:13:23.434303Z",
     "shell.execute_reply": "2024-03-15T12:13:23.432987Z"
    },
    "papermill": {
     "duration": 0.020725,
     "end_time": "2024-03-15T12:13:23.436868",
     "exception": false,
     "start_time": "2024-03-15T12:13:23.416143",
     "status": "completed"
    },
    "tags": []
   },
   "outputs": [],
   "source": [
    "stop_words = nltk.corpus.stopwords.words('english')\n",
    "\n",
    "count_vec = fe.text.CountVectorizer(stop_words=stop_words)\n",
    "tfidf_transformer = fe.text.TfidfTransformer()\n",
    "\n",
    "lemmatizer = WordNetLemmatizer()"
   ]
  },
  {
   "cell_type": "code",
   "execution_count": 5,
   "id": "d4056c70",
   "metadata": {
    "execution": {
     "iopub.execute_input": "2024-03-15T12:13:23.449992Z",
     "iopub.status.busy": "2024-03-15T12:13:23.448839Z",
     "iopub.status.idle": "2024-03-15T12:13:26.278981Z",
     "shell.execute_reply": "2024-03-15T12:13:26.277755Z"
    },
    "papermill": {
     "duration": 2.839471,
     "end_time": "2024-03-15T12:13:26.281807",
     "exception": false,
     "start_time": "2024-03-15T12:13:23.442336",
     "status": "completed"
    },
    "tags": []
   },
   "outputs": [
    {
     "name": "stdout",
     "output_type": "stream",
     "text": [
      "(7613, 21498)\n",
      "(3263, 21498)\n"
     ]
    }
   ],
   "source": [
    "lemm_train_data = [lemmatizer.lemmatize(word) for word in train_data['text']]\n",
    "lemm_test_data = [lemmatizer.lemmatize(word) for word in test_data['text']]\n",
    "\n",
    "\n",
    "train_tok = count_vec.fit_transform(lemm_train_data)\n",
    "tf_train_tok = tfidf_transformer.fit_transform(train_tok)\n",
    "\n",
    "print(tf_train_tok.shape)\n",
    "\n",
    "\n",
    "test_tok = count_vec.transform(lemm_test_data)\n",
    "tf_test_tok = tfidf_transformer.transform(test_tok)\n",
    "\n",
    "print(tf_test_tok.shape)"
   ]
  },
  {
   "cell_type": "code",
   "execution_count": 6,
   "id": "eb36cb43",
   "metadata": {
    "execution": {
     "iopub.execute_input": "2024-03-15T12:13:26.295422Z",
     "iopub.status.busy": "2024-03-15T12:13:26.295004Z",
     "iopub.status.idle": "2024-03-15T12:13:26.768575Z",
     "shell.execute_reply": "2024-03-15T12:13:26.767386Z"
    },
    "papermill": {
     "duration": 0.483161,
     "end_time": "2024-03-15T12:13:26.771185",
     "exception": false,
     "start_time": "2024-03-15T12:13:26.288024",
     "status": "completed"
    },
    "tags": []
   },
   "outputs": [],
   "source": [
    "feature_names_tf = tfidf_transformer.get_feature_names_out()\n",
    "tfidf_scores = tf_train_tok.toarray()[0]\n",
    "\n",
    "dictionary = count_vec.vocabulary_\n",
    "dictionary = dict(sorted(dictionary.items(), key=lambda x: x[1]))"
   ]
  },
  {
   "cell_type": "code",
   "execution_count": 7,
   "id": "86a04953",
   "metadata": {
    "execution": {
     "iopub.execute_input": "2024-03-15T12:13:26.783854Z",
     "iopub.status.busy": "2024-03-15T12:13:26.783464Z",
     "iopub.status.idle": "2024-03-15T12:13:26.796638Z",
     "shell.execute_reply": "2024-03-15T12:13:26.795416Z"
    },
    "papermill": {
     "duration": 0.022615,
     "end_time": "2024-03-15T12:13:26.799414",
     "exception": false,
     "start_time": "2024-03-15T12:13:26.776799",
     "status": "completed"
    },
    "tags": []
   },
   "outputs": [],
   "source": [
    "clf = MultinomialNB().fit(tf_train_tok, train_data['target'])"
   ]
  },
  {
   "cell_type": "code",
   "execution_count": 8,
   "id": "094856d0",
   "metadata": {
    "execution": {
     "iopub.execute_input": "2024-03-15T12:13:26.812003Z",
     "iopub.status.busy": "2024-03-15T12:13:26.811578Z",
     "iopub.status.idle": "2024-03-15T12:13:26.832531Z",
     "shell.execute_reply": "2024-03-15T12:13:26.831369Z"
    },
    "papermill": {
     "duration": 0.03017,
     "end_time": "2024-03-15T12:13:26.835064",
     "exception": false,
     "start_time": "2024-03-15T12:13:26.804894",
     "status": "completed"
    },
    "tags": []
   },
   "outputs": [
    {
     "data": {
      "text/html": [
       "<div>\n",
       "<style scoped>\n",
       "    .dataframe tbody tr th:only-of-type {\n",
       "        vertical-align: middle;\n",
       "    }\n",
       "\n",
       "    .dataframe tbody tr th {\n",
       "        vertical-align: top;\n",
       "    }\n",
       "\n",
       "    .dataframe thead th {\n",
       "        text-align: right;\n",
       "    }\n",
       "</style>\n",
       "<table border=\"1\" class=\"dataframe\">\n",
       "  <thead>\n",
       "    <tr style=\"text-align: right;\">\n",
       "      <th></th>\n",
       "      <th>id</th>\n",
       "      <th>target</th>\n",
       "    </tr>\n",
       "  </thead>\n",
       "  <tbody>\n",
       "    <tr>\n",
       "      <th>0</th>\n",
       "      <td>0</td>\n",
       "      <td>0</td>\n",
       "    </tr>\n",
       "    <tr>\n",
       "      <th>1</th>\n",
       "      <td>2</td>\n",
       "      <td>0</td>\n",
       "    </tr>\n",
       "    <tr>\n",
       "      <th>2</th>\n",
       "      <td>3</td>\n",
       "      <td>0</td>\n",
       "    </tr>\n",
       "    <tr>\n",
       "      <th>3</th>\n",
       "      <td>9</td>\n",
       "      <td>0</td>\n",
       "    </tr>\n",
       "    <tr>\n",
       "      <th>4</th>\n",
       "      <td>11</td>\n",
       "      <td>0</td>\n",
       "    </tr>\n",
       "  </tbody>\n",
       "</table>\n",
       "</div>"
      ],
      "text/plain": [
       "   id  target\n",
       "0   0       0\n",
       "1   2       0\n",
       "2   3       0\n",
       "3   9       0\n",
       "4  11       0"
      ]
     },
     "execution_count": 8,
     "metadata": {},
     "output_type": "execute_result"
    }
   ],
   "source": [
    "predicted = clf.predict(tf_test_tok)\n",
    "\n",
    "sample_submission = pd.read_csv(\"/kaggle/input/nlp-getting-started/sample_submission.csv\")\n",
    "sample_submission.head()"
   ]
  },
  {
   "cell_type": "code",
   "execution_count": 9,
   "id": "9e1ac8b7",
   "metadata": {
    "execution": {
     "iopub.execute_input": "2024-03-15T12:13:26.848407Z",
     "iopub.status.busy": "2024-03-15T12:13:26.848001Z",
     "iopub.status.idle": "2024-03-15T12:13:26.858701Z",
     "shell.execute_reply": "2024-03-15T12:13:26.857620Z"
    },
    "papermill": {
     "duration": 0.020461,
     "end_time": "2024-03-15T12:13:26.861251",
     "exception": false,
     "start_time": "2024-03-15T12:13:26.840790",
     "status": "completed"
    },
    "tags": []
   },
   "outputs": [
    {
     "data": {
      "text/html": [
       "<div>\n",
       "<style scoped>\n",
       "    .dataframe tbody tr th:only-of-type {\n",
       "        vertical-align: middle;\n",
       "    }\n",
       "\n",
       "    .dataframe tbody tr th {\n",
       "        vertical-align: top;\n",
       "    }\n",
       "\n",
       "    .dataframe thead th {\n",
       "        text-align: right;\n",
       "    }\n",
       "</style>\n",
       "<table border=\"1\" class=\"dataframe\">\n",
       "  <thead>\n",
       "    <tr style=\"text-align: right;\">\n",
       "      <th></th>\n",
       "      <th>id</th>\n",
       "      <th>target</th>\n",
       "    </tr>\n",
       "  </thead>\n",
       "  <tbody>\n",
       "    <tr>\n",
       "      <th>0</th>\n",
       "      <td>0</td>\n",
       "      <td>1</td>\n",
       "    </tr>\n",
       "    <tr>\n",
       "      <th>1</th>\n",
       "      <td>2</td>\n",
       "      <td>0</td>\n",
       "    </tr>\n",
       "    <tr>\n",
       "      <th>2</th>\n",
       "      <td>3</td>\n",
       "      <td>1</td>\n",
       "    </tr>\n",
       "    <tr>\n",
       "      <th>3</th>\n",
       "      <td>9</td>\n",
       "      <td>1</td>\n",
       "    </tr>\n",
       "    <tr>\n",
       "      <th>4</th>\n",
       "      <td>11</td>\n",
       "      <td>1</td>\n",
       "    </tr>\n",
       "  </tbody>\n",
       "</table>\n",
       "</div>"
      ],
      "text/plain": [
       "   id  target\n",
       "0   0       1\n",
       "1   2       0\n",
       "2   3       1\n",
       "3   9       1\n",
       "4  11       1"
      ]
     },
     "execution_count": 9,
     "metadata": {},
     "output_type": "execute_result"
    }
   ],
   "source": [
    "sample_submission[\"target\"] = predicted\n",
    "sample_submission.head()"
   ]
  },
  {
   "cell_type": "code",
   "execution_count": 10,
   "id": "a8d873aa",
   "metadata": {
    "execution": {
     "iopub.execute_input": "2024-03-15T12:13:26.876476Z",
     "iopub.status.busy": "2024-03-15T12:13:26.874282Z",
     "iopub.status.idle": "2024-03-15T12:13:26.887603Z",
     "shell.execute_reply": "2024-03-15T12:13:26.886707Z"
    },
    "papermill": {
     "duration": 0.022844,
     "end_time": "2024-03-15T12:13:26.889988",
     "exception": false,
     "start_time": "2024-03-15T12:13:26.867144",
     "status": "completed"
    },
    "tags": []
   },
   "outputs": [],
   "source": [
    "sample_submission.to_csv(\"/kaggle/working/submission.csv\", index=False)"
   ]
  },
  {
   "cell_type": "code",
   "execution_count": null,
   "id": "f6dc478a",
   "metadata": {
    "papermill": {
     "duration": 0.005669,
     "end_time": "2024-03-15T12:13:26.901723",
     "exception": false,
     "start_time": "2024-03-15T12:13:26.896054",
     "status": "completed"
    },
    "tags": []
   },
   "outputs": [],
   "source": []
  }
 ],
 "metadata": {
  "kaggle": {
   "accelerator": "none",
   "dataSources": [
    {
     "databundleVersionId": 869809,
     "sourceId": 17777,
     "sourceType": "competition"
    }
   ],
   "dockerImageVersionId": 30664,
   "isGpuEnabled": false,
   "isInternetEnabled": true,
   "language": "python",
   "sourceType": "notebook"
  },
  "kernelspec": {
   "display_name": "Python 3 (ipykernel)",
   "language": "python",
   "name": "python3"
  },
  "language_info": {
   "codemirror_mode": {
    "name": "ipython",
    "version": 3
   },
   "file_extension": ".py",
   "mimetype": "text/x-python",
   "name": "python",
   "nbconvert_exporter": "python",
   "pygments_lexer": "ipython3",
   "version": "3.10.11"
  },
  "papermill": {
   "default_parameters": {},
   "duration": 12.215509,
   "end_time": "2024-03-15T12:13:27.829214",
   "environment_variables": {},
   "exception": null,
   "input_path": "__notebook__.ipynb",
   "output_path": "__notebook__.ipynb",
   "parameters": {},
   "start_time": "2024-03-15T12:13:15.613705",
   "version": "2.5.0"
  }
 },
 "nbformat": 4,
 "nbformat_minor": 5
}
